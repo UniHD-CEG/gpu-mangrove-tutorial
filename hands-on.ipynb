{
 "cells": [
  {
   "cell_type": "markdown",
   "metadata": {},
   "source": [
    "# TODO\n",
    "\n",
    "- [ ] Description of Repository\n",
    "- [ ] Power Exercises\n",
    "- [ ] Exchange Benchmarks to get better results"
   ]
  },
  {
   "cell_type": "code",
   "execution_count": 1,
   "metadata": {},
   "outputs": [
    {
     "data": {
      "text/html": [
       "<style>\n",
       ".container { width:100% !important; }\n",
       ".rendered_html pre code {border: 0; background-color: #f4f4f4; display:inline-block;}\n",
       ".rendered_html code.language-cpp {border: 0; background-color: #f4f4f4; display:inline-block;}\n",
       "</style>\n"
      ],
      "text/plain": [
       "<IPython.core.display.HTML object>"
      ]
     },
     "metadata": {},
     "output_type": "display_data"
    }
   ],
   "source": [
    "%%html\n",
    "<style>\n",
    ".container { width:100% !important; }\n",
    ".rendered_html pre code {border: 0; background-color: #f4f4f4; display:inline-block;}\n",
    ".rendered_html code.language-cpp {border: 0; background-color: #f4f4f4; display:inline-block;}\n",
    "</style>"
   ]
  },
  {
   "cell_type": "markdown",
   "metadata": {},
   "source": [
    "# Task 1.1 - Implement Time Measurements and Instrumentation\n",
    "\n",
    "1. Edit [`benchmarks/time_instrumentation/common/instrumentation.h`](/edit/benchmarks/time_instrumentation/common/instrumentation.h) (you can click on the link to edit the file)\n",
    "    * Use `gettimeofday` to measure time. Here en example on how to use it:\n",
    "```cpp\n",
    "struct timeval mytime;\n",
    "gettimeofday(&mytime, NULL);\n",
    "unsigned long time1 = (unsigned long)mytime.tv_sec * 1e6 + (unsigned long)mytime.tv_usec;\n",
    "/* Some other code */\n",
    "unsigned long time2 = (unsigned long)mytime.tv_sec * 1e6 + (unsigned long)mytime.tv_usec;\n",
    "unsigned long diff = time2 - time1;\n",
    "```\n",
    "    * make sure the kernel finished before measuring time after kernel launch\n",
    "2. Insert `PRE_KERNEL` and `POST_KERNEL` before and after each kernel launch in the [benchmarks](tree/benchmarks/time_instrumentation).  \n",
    "   Example:\n",
    "```cpp\n",
    "PRE_KERNEL\n",
    "vectorAdd<<<grid_size,block_size>>>(A,B,C);\n",
    "POST_KERNEL\n",
    "```\n",
    "3. Compile the benchmarks in cuda_flux and time_instrumentation after completing the tasks."
   ]
  },
  {
   "cell_type": "code",
   "execution_count": 2,
   "metadata": {},
   "outputs": [
    {
     "name": "stdout",
     "output_type": "stream",
     "text": [
      "cd kmeans && make\n",
      "make[1]: Entering directory '/home/lbraun/gpu-mangrove_exercises/benchmarks/time_instrumentation/kmeans'\n",
      "make[1]: Nothing to be done for 'all'.\n",
      "make[1]: Leaving directory '/home/lbraun/gpu-mangrove_exercises/benchmarks/time_instrumentation/kmeans'\n",
      "cd 5p-stencil && make\n",
      "make[1]: Entering directory '/home/lbraun/gpu-mangrove_exercises/benchmarks/time_instrumentation/5p-stencil'\n",
      "make[1]: Nothing to be done for 'all'.\n",
      "make[1]: Leaving directory '/home/lbraun/gpu-mangrove_exercises/benchmarks/time_instrumentation/5p-stencil'\n"
     ]
    }
   ],
   "source": [
    "%%bash\n",
    "module load cuda llvm cuda-flux \n",
    "cd benchmarks/time_instrumentation && make"
   ]
  },
  {
   "cell_type": "markdown",
   "metadata": {},
   "source": [
    "# Task 1.2 - Build power instrumentation binaries\n",
    "\n",
    "View [`benchmarks/power_instrumentation/common/instrumentation.h`](/edit/benchmarks/power_instrumentation/common/instrumentation.h)"
   ]
  },
  {
   "cell_type": "markdown",
   "metadata": {},
   "source": [
    "# Task 1.2 - Add additional workloads for the benchmarks\n",
    "\n",
    "1. Edit [measurements/my_benchmarks/app_arguments.txt](/edit/measurements/my_benchmarks/app_arguments.txt) and add more workloads\n",
    "    Syntax is as follows:\n",
    "    ```\n",
    "    <executable> <workload name> <arguments>\n",
    "    ```\n",
    "    Example\n",
    "    ```\n",
    "    n-body 1k-bodies 1024\n",
    "    n-body 2k-bodies 2048\n",
    "    ```\n",
    "2. Update [measurements/benchmarks_lists/my_benchmarks.yaml](/edit/measurements/benchmark_lists/my_benchmarks.yaml). Add the workload names you created for each benchmark. \n",
    "    The result could look like this: \n",
    "    ```\n",
    "    n-body [1k-bodies, 2k-bodies]\n",
    "    ```\n",
    "    * Try to use at least four different workloads for each application.\n",
    "    * Test how large the workload can be, without running out of memory on the GPU.\n",
    "    * The largest pre-defined workload should fit within 4GB."
   ]
  },
  {
   "cell_type": "markdown",
   "metadata": {},
   "source": [
    "# Task 1.3 - Execute the Benchmarks\n",
    "\n",
    "1. Execute `prepare_measurements.sh`. It will copy the binaries to the benchmark folder"
   ]
  },
  {
   "cell_type": "code",
   "execution_count": 4,
   "metadata": {},
   "outputs": [
    {
     "name": "stdout",
     "output_type": "stream",
     "text": [
      "building cuda flux binaries..\n",
      "cd kmeans && make\n",
      "make[1]: Entering directory '/home/lbraun/gpu-mangrove_exercises/benchmarks/cuda_flux/kmeans'\n",
      "make[1]: Nothing to be done for 'all'.\n",
      "make[1]: Leaving directory '/home/lbraun/gpu-mangrove_exercises/benchmarks/cuda_flux/kmeans'\n",
      "cd 5p-stencil && make\n",
      "make[1]: Entering directory '/home/lbraun/gpu-mangrove_exercises/benchmarks/cuda_flux/5p-stencil'\n",
      "make[1]: Nothing to be done for 'all'.\n",
      "make[1]: Leaving directory '/home/lbraun/gpu-mangrove_exercises/benchmarks/cuda_flux/5p-stencil'\n",
      "building time instrumentation binaries..\n",
      "cd kmeans && make\n",
      "make[1]: Entering directory '/home/lbraun/gpu-mangrove_exercises/benchmarks/time_instrumentation/kmeans'\n",
      "make[1]: Nothing to be done for 'all'.\n",
      "make[1]: Leaving directory '/home/lbraun/gpu-mangrove_exercises/benchmarks/time_instrumentation/kmeans'\n",
      "cd 5p-stencil && make\n",
      "make[1]: Entering directory '/home/lbraun/gpu-mangrove_exercises/benchmarks/time_instrumentation/5p-stencil'\n",
      "make[1]: Nothing to be done for 'all'.\n",
      "make[1]: Leaving directory '/home/lbraun/gpu-mangrove_exercises/benchmarks/time_instrumentation/5p-stencil'\n",
      "building power instrumentation binaries..\n",
      "cd kmeans && make\n",
      "make[1]: Entering directory '/home/lbraun/gpu-mangrove_exercises/benchmarks/power_instrumentation/kmeans'\n",
      "make[1]: Nothing to be done for 'all'.\n",
      "make[1]: Leaving directory '/home/lbraun/gpu-mangrove_exercises/benchmarks/power_instrumentation/kmeans'\n",
      "cd 5p-stencil && make\n",
      "make[1]: Entering directory '/home/lbraun/gpu-mangrove_exercises/benchmarks/power_instrumentation/5p-stencil'\n",
      "make[1]: Nothing to be done for 'all'.\n",
      "make[1]: Leaving directory '/home/lbraun/gpu-mangrove_exercises/benchmarks/power_instrumentation/5p-stencil'\n",
      "copy binaries..\n"
     ]
    }
   ],
   "source": [
    "%%bash\n",
    "module load cuda llvm cuda-flux\n",
    "./prepare_measurements.sh"
   ]
  },
  {
   "cell_type": "markdown",
   "metadata": {},
   "source": [
    "2. Go to the measurements folder and create scripts for your measurements:"
   ]
  },
  {
   "cell_type": "code",
   "execution_count": 5,
   "metadata": {},
   "outputs": [
    {
     "name": "stdout",
     "output_type": "stream",
     "text": [
      "Created benchmark scripts:\n",
      "cuda_flux_measurements.sh\n",
      "time_measurements_K80.sh\n",
      "time_measurements_T4.sh\n"
     ]
    },
    {
     "name": "stderr",
     "output_type": "stream",
     "text": [
      "./scheduler.py:25: YAMLLoadWarning: calling yaml.load() without Loader=... is deprecated, as the default Loader is unsafe. Please read https://msg.pyyaml.org/load for full details.\n",
      "  doc = yaml.load(open(args.list))\n",
      "./scheduler.py:25: YAMLLoadWarning: calling yaml.load() without Loader=... is deprecated, as the default Loader is unsafe. Please read https://msg.pyyaml.org/load for full details.\n",
      "  doc = yaml.load(open(args.list))\n",
      "./scheduler.py:25: YAMLLoadWarning: calling yaml.load() without Loader=... is deprecated, as the default Loader is unsafe. Please read https://msg.pyyaml.org/load for full details.\n",
      "  doc = yaml.load(open(args.list))\n"
     ]
    }
   ],
   "source": [
    "%%bash\n",
    "# TODO make sure scripts are executable (no python3 needed)\n",
    "module load cuda llvm cuda-flux\n",
    "source /opt/py_env/bin/activate\n",
    "cd measurements\n",
    "\n",
    "# Create script measuring time with 10 iterations on the K80 GPU using the benchmarks in benchmark_lists/my_benchmarks.yaml\n",
    "# -t creates the tag 'time_K80' for filtering purposes when processing the results\n",
    "./scheduler.py -l benchmark_lists/my_benchmarks.yaml \\\n",
    "-b time -t time_K80 -i 10 -q 'srun --partition=K80' > time_measurements_K80.sh\n",
    "\n",
    "# Create script measuring time with 10 iterations on the K80 GPU using the benchmarks in benchmark_lists/my_benchmarks.yaml\n",
    "# -t creates the tag 'time_K80' for filtering purposes when processing the results\n",
    "./scheduler.py -l benchmark_lists/my_benchmarks.yaml \\\n",
    "-b time -t time_T4 -i 10 -q 'srun --partition=T4' > time_measurements_T4.sh\n",
    "\n",
    "# Create script measuring kernel metrics on any GPU using the benchmarks in benchmark_lists/my_benchmarks.yaml\n",
    "# -t creates the tag 'flux' for filtering purposes when processing the results\n",
    "./scheduler.py -l benchmark_lists/my_benchmarks.yaml \\\n",
    "-b flux -t flux -i 1 -q 'srun' > cuda_flux_measurements.sh\n",
    "\n",
    "echo Created benchmark scripts:\n",
    "ls *_measurements*.sh"
   ]
  },
  {
   "cell_type": "markdown",
   "metadata": {},
   "source": [
    "3. Execute the generated scripts"
   ]
  },
  {
   "cell_type": "code",
   "execution_count": 6,
   "metadata": {},
   "outputs": [
    {
     "name": "stdout",
     "output_type": "stream",
     "text": [
      "Process is terminated.\n"
     ]
    }
   ],
   "source": [
    "%%bash\n",
    "module load cuda llvm cuda-flux\n",
    "source /opt/py_env/bin/activate\n",
    "cd measurements\n",
    "\n",
    "bash time_measurements_T4.sh\n",
    "#bash time_measurements_K80.sh\n",
    "bash cuda_flux_measurements.sh"
   ]
  },
  {
   "cell_type": "markdown",
   "metadata": {},
   "source": [
    "# Coffee Break ☕"
   ]
  },
  {
   "cell_type": "markdown",
   "metadata": {},
   "source": [
    "# Task 2.1- Process the Measurement Results\n",
    "\n",
    "Stay in the folder measurements and process the measurement results:"
   ]
  },
  {
   "cell_type": "code",
   "execution_count": 7,
   "metadata": {},
   "outputs": [
    {
     "name": "stdout",
     "output_type": "stream",
     "text": [
      "Namespace(logdir='log', o='cuda_flux_metrics.db', tag='flux')\n",
      "Processing my_benchmarks 5p-stencil s5\n",
      "('log/4108/20201209-112716.272422_p2x02_5p-stencil',)\n",
      "Processing my_benchmarks 5p-stencil_opt s5\n",
      "('log/7bc8/20201209-112738.397100_p2x02_5p-stencil_opt',)\n",
      "Processing my_benchmarks kmeans s1\n",
      "('log/6d44/20201209-112754.667880_p2x02_kmeans',)\n",
      "Processing my_benchmarks 5p-stencil s1\n",
      "('log/3e10/20201209-112713.278634_p2x02_5p-stencil',)\n",
      "Processing my_benchmarks kmeans s5\n",
      "('log/c29e/20201209-112757.648638_p2x02_kmeans',)\n",
      "Processing my_benchmarks 5p-stencil_opt s1\n",
      "('log/120b/20201209-112735.391651_p2x02_5p-stencil_opt',)\n",
      "Done\n",
      "using tag  time_T4\n",
      "('log/e4f0/20210114-112936.614234_g4dn01_5p-stencil_opt',)\n",
      "('log/cf76/20210114-112948.129147_g4dn01_5p-stencil_opt',)\n",
      "('log/4e89/20210114-112959.500749_g4dn01_5p-stencil_opt',)\n",
      "('log/e63f/20210114-113010.849196_g4dn01_5p-stencil_opt',)\n",
      "('log/57c7/20210114-113022.214632_g4dn01_5p-stencil_opt',)\n",
      "('log/36d2/20210114-113033.589559_g4dn01_5p-stencil_opt',)\n",
      "('log/99e6/20210114-113044.948496_g4dn01_5p-stencil_opt',)\n",
      "('log/d85f/20210114-113056.460293_g4dn01_5p-stencil_opt',)\n",
      "('log/7c84/20210114-113107.967535_g4dn01_5p-stencil_opt',)\n",
      "('log/50aa/20210114-113119.473424_g4dn01_5p-stencil_opt',)\n",
      "('log/57ed/20210114-132834.105956_g4dn01_5p-stencil_opt',)\n",
      "('log/ec62/20210114-112700.519152_g4dn01_5p-stencil',)\n",
      "('log/ab9a/20210114-112703.985307_g4dn01_5p-stencil',)\n",
      "('log/b667/20210114-112704.762892_g4dn01_5p-stencil',)\n",
      "('log/0b2a/20210114-112705.528800_g4dn01_5p-stencil',)\n",
      "('log/3f5f/20210114-112706.293968_g4dn01_5p-stencil',)\n",
      "('log/8475/20210114-112707.056312_g4dn01_5p-stencil',)\n",
      "('log/d325/20210114-112707.822927_g4dn01_5p-stencil',)\n",
      "('log/29ee/20210114-112708.586849_g4dn01_5p-stencil',)\n",
      "('log/2c30/20210114-112709.373606_g4dn01_5p-stencil',)\n",
      "('log/8a56/20210114-112710.159560_g4dn01_5p-stencil',)\n",
      "('log/a057/20210114-132600.551195_g4dn01_5p-stencil',)\n",
      "('log/138a/20210114-132601.354320_g4dn01_5p-stencil',)\n",
      "('log/848a/20210114-132602.139741_g4dn01_5p-stencil',)\n",
      "('log/fb8b/20210114-132602.924424_g4dn01_5p-stencil',)\n",
      "('log/ab34/20210114-132603.703108_g4dn01_5p-stencil',)\n",
      "('log/0678/20210114-132604.484449_g4dn01_5p-stencil',)\n",
      "('log/cab2/20210114-132605.269947_g4dn01_5p-stencil',)\n",
      "('log/f3ab/20210114-132606.037491_g4dn01_5p-stencil',)\n",
      "('log/537e/20210114-132606.818089_g4dn01_5p-stencil',)\n",
      "('log/cf56/20210114-132607.578271_g4dn01_5p-stencil',)\n",
      "('log/a747/20210114-113138.678926_g4dn01_kmeans',)\n",
      "('log/7a2e/20210114-113139.434593_g4dn01_kmeans',)\n",
      "('log/2558/20210114-113140.187745_g4dn01_kmeans',)\n",
      "('log/66c1/20210114-113140.937530_g4dn01_kmeans',)\n",
      "('log/5b29/20210114-113141.688390_g4dn01_kmeans',)\n",
      "('log/8398/20210114-113142.469248_g4dn01_kmeans',)\n",
      "('log/30dd/20210114-113143.234875_g4dn01_kmeans',)\n",
      "('log/40d1/20210114-113143.981679_g4dn01_kmeans',)\n",
      "('log/45e6/20210114-113144.739743_g4dn01_kmeans',)\n",
      "('log/fff7/20210114-113145.494988_g4dn01_kmeans',)\n",
      "('log/2a71/20210114-112928.763451_g4dn01_5p-stencil_opt',)\n",
      "('log/2ecd/20210114-112929.545830_g4dn01_5p-stencil_opt',)\n",
      "('log/5432/20210114-112930.312236_g4dn01_5p-stencil_opt',)\n",
      "('log/a296/20210114-112931.098637_g4dn01_5p-stencil_opt',)\n",
      "('log/1ea3/20210114-112931.879717_g4dn01_5p-stencil_opt',)\n",
      "('log/e7ab/20210114-112932.662213_g4dn01_5p-stencil_opt',)\n",
      "('log/63b1/20210114-112933.439073_g4dn01_5p-stencil_opt',)\n",
      "('log/e5a8/20210114-112934.214090_g4dn01_5p-stencil_opt',)\n",
      "('log/f623/20210114-112934.987172_g4dn01_5p-stencil_opt',)\n",
      "('log/dee6/20210114-112935.758064_g4dn01_5p-stencil_opt',)\n",
      "('log/752e/20210114-132826.383203_g4dn01_5p-stencil_opt',)\n",
      "('log/257d/20210114-132827.158883_g4dn01_5p-stencil_opt',)\n",
      "('log/15cf/20210114-132827.923593_g4dn01_5p-stencil_opt',)\n",
      "('log/640c/20210114-132828.686000_g4dn01_5p-stencil_opt',)\n",
      "('log/7326/20210114-132829.445900_g4dn01_5p-stencil_opt',)\n",
      "('log/a084/20210114-132830.207335_g4dn01_5p-stencil_opt',)\n",
      "('log/3003/20210114-132830.969253_g4dn01_5p-stencil_opt',)\n",
      "('log/2243/20210114-132831.731433_g4dn01_5p-stencil_opt',)\n",
      "('log/8a32/20210114-132832.491880_g4dn01_5p-stencil_opt',)\n",
      "('log/3221/20210114-132833.253814_g4dn01_5p-stencil_opt',)\n",
      "('log/c3a9/20210114-112711.035499_g4dn01_5p-stencil',)\n",
      "('log/5246/20210114-112724.899074_g4dn01_5p-stencil',)\n",
      "('log/b4aa/20210114-112738.735389_g4dn01_5p-stencil',)\n",
      "('log/561f/20210114-112752.344263_g4dn01_5p-stencil',)\n",
      "('log/672f/20210114-112806.087725_g4dn01_5p-stencil',)\n",
      "('log/8100/20210114-112819.943788_g4dn01_5p-stencil',)\n",
      "('log/e573/20210114-112833.940553_g4dn01_5p-stencil',)\n",
      "('log/13bb/20210114-112847.608203_g4dn01_5p-stencil',)\n",
      "('log/de21/20210114-112901.345797_g4dn01_5p-stencil',)\n",
      "('log/28ca/20210114-112915.126169_g4dn01_5p-stencil',)\n",
      "('log/7922/20210114-132608.431081_g4dn01_5p-stencil',)\n",
      "('log/a527/20210114-132622.195692_g4dn01_5p-stencil',)\n",
      "('log/b71b/20210114-132636.056721_g4dn01_5p-stencil',)\n",
      "('log/a0b0/20210114-132649.971317_g4dn01_5p-stencil',)\n",
      "('log/e2cf/20210114-132703.724353_g4dn01_5p-stencil',)\n",
      "('log/43d1/20210114-132717.326198_g4dn01_5p-stencil',)\n",
      "('log/dbfb/20210114-132731.184128_g4dn01_5p-stencil',)\n",
      "('log/588f/20210114-132745.024580_g4dn01_5p-stencil',)\n",
      "('log/e1ca/20210114-132758.965263_g4dn01_5p-stencil',)\n",
      "('log/0c0c/20210114-132812.522719_g4dn01_5p-stencil',)\n",
      "('log/e3b4/20210114-113130.927416_g4dn01_kmeans',)\n",
      "('log/a7b7/20210114-113131.795201_g4dn01_kmeans',)\n",
      "('log/3eba/20210114-113132.546463_g4dn01_kmeans',)\n",
      "('log/b50f/20210114-113133.295010_g4dn01_kmeans',)\n",
      "('log/d3a1/20210114-113134.076844_g4dn01_kmeans',)\n",
      "('log/db3b/20210114-113134.824239_g4dn01_kmeans',)\n",
      "('log/2ff5/20210114-113135.587558_g4dn01_kmeans',)\n",
      "('log/3694/20210114-113136.335964_g4dn01_kmeans',)\n",
      "('log/6ed4/20210114-113137.099349_g4dn01_kmeans',)\n",
      "('log/86be/20210114-113137.848192_g4dn01_kmeans',)\n",
      "('my_benchmarks', '5p-stencil', 's1', 'time', 0, 5442.45)\n",
      "('my_benchmarks', '5p-stencil', 's5', 'time', 0, 2918341.7)\n",
      "('my_benchmarks', '5p-stencil_opt', 's1', 'time', 0, 1021.6)\n",
      "('my_benchmarks', '5p-stencil_opt', 's5', 'time', 0, 581188.7272727273)\n",
      "('my_benchmarks', 'kmeans', 's1', 'time', 0, 23.3)\n",
      "('my_benchmarks', 'kmeans', 's1', 'time', 1, 40.5)\n",
      "('my_benchmarks', 'kmeans', 's1', 'time', 2, 9.4)\n",
      "('my_benchmarks', 'kmeans', 's5', 'time', 0, 25.8)\n",
      "('my_benchmarks', 'kmeans', 's5', 'time', 1, 72.1)\n",
      "('my_benchmarks', 'kmeans', 's5', 'time', 2, 10.5)\n"
     ]
    },
    {
     "name": "stderr",
     "output_type": "stream",
     "text": [
      "processing/extractCUDAFluxMetrics.py:10: YAMLLoadWarning: calling yaml.load() without Loader=... is deprecated, as the default Loader is unsafe. Please read https://msg.pyyaml.org/load for full details.\n",
      "  doc = yaml.load(open(filepath, 'r'))\n"
     ]
    }
   ],
   "source": [
    "%%bash\n",
    "# TODO make sure scripts are executable (no python3 needed)\n",
    "module load cuda llvm cuda-flux\n",
    "source /opt/py_env/bin/activate\n",
    "cd measurements\n",
    "rm -f cuda_flux_metrics.db kernel_time_K80.db kernel_time_T4.db\n",
    "python3 processing/extractCUDAFluxMetrics.py -logdir log -tag flux -o cuda_flux_metrics.db\n",
    "#python3 processing/extractKernelTime.py -logdir log -tag time_K80 -o kernel_time_K80.db\n",
    "python3 processing/extractKernelTime.py -logdir log -tag time_T4 -o kernel_time_T4.db"
   ]
  },
  {
   "cell_type": "markdown",
   "metadata": {},
   "source": [
    "You may inspect the results using pandas reading the sqlite database.\n",
    "\n",
    "You can view how data is stored in the database using sqlite3:"
   ]
  },
  {
   "cell_type": "code",
   "execution_count": 8,
   "metadata": {},
   "outputs": [
    {
     "name": "stdout",
     "output_type": "stream",
     "text": [
      "CREATE TABLE fluxmetrics\n",
      "                    (bench text not null,\n",
      "                    app text not null,\n",
      "                    dataset text not null,\n",
      "                    lseq integer not null,\n",
      "                    name text not null,\n",
      "                    metric text not null,\n",
      "                    value double not null);\n"
     ]
    }
   ],
   "source": [
    "%%bash\n",
    "sqlite3 measurements/cuda_flux_metrics.db .schema"
   ]
  },
  {
   "cell_type": "code",
   "execution_count": 9,
   "metadata": {},
   "outputs": [
    {
     "data": {
      "text/html": [
       "<div>\n",
       "<style scoped>\n",
       "    .dataframe tbody tr th:only-of-type {\n",
       "        vertical-align: middle;\n",
       "    }\n",
       "\n",
       "    .dataframe tbody tr th {\n",
       "        vertical-align: top;\n",
       "    }\n",
       "\n",
       "    .dataframe thead th {\n",
       "        text-align: right;\n",
       "    }\n",
       "</style>\n",
       "<table border=\"1\" class=\"dataframe\">\n",
       "  <thead>\n",
       "    <tr style=\"text-align: right;\">\n",
       "      <th></th>\n",
       "      <th>bench</th>\n",
       "      <th>app</th>\n",
       "      <th>dataset</th>\n",
       "      <th>lseq</th>\n",
       "      <th>name</th>\n",
       "      <th>metric</th>\n",
       "      <th>value</th>\n",
       "    </tr>\n",
       "  </thead>\n",
       "  <tbody>\n",
       "    <tr>\n",
       "      <th>0</th>\n",
       "      <td>my_benchmarks</td>\n",
       "      <td>5p-stencil</td>\n",
       "      <td>s5</td>\n",
       "      <td>0</td>\n",
       "      <td>_Z20simpleStencil_KerneliPfS_</td>\n",
       "      <td>gX</td>\n",
       "      <td>163.0</td>\n",
       "    </tr>\n",
       "    <tr>\n",
       "      <th>1</th>\n",
       "      <td>my_benchmarks</td>\n",
       "      <td>5p-stencil</td>\n",
       "      <td>s5</td>\n",
       "      <td>0</td>\n",
       "      <td>_Z20simpleStencil_KerneliPfS_</td>\n",
       "      <td>gY</td>\n",
       "      <td>1.0</td>\n",
       "    </tr>\n",
       "    <tr>\n",
       "      <th>2</th>\n",
       "      <td>my_benchmarks</td>\n",
       "      <td>5p-stencil</td>\n",
       "      <td>s5</td>\n",
       "      <td>0</td>\n",
       "      <td>_Z20simpleStencil_KerneliPfS_</td>\n",
       "      <td>gZ</td>\n",
       "      <td>1.0</td>\n",
       "    </tr>\n",
       "    <tr>\n",
       "      <th>3</th>\n",
       "      <td>my_benchmarks</td>\n",
       "      <td>5p-stencil</td>\n",
       "      <td>s5</td>\n",
       "      <td>0</td>\n",
       "      <td>_Z20simpleStencil_KerneliPfS_</td>\n",
       "      <td>bX</td>\n",
       "      <td>128.0</td>\n",
       "    </tr>\n",
       "    <tr>\n",
       "      <th>4</th>\n",
       "      <td>my_benchmarks</td>\n",
       "      <td>5p-stencil</td>\n",
       "      <td>s5</td>\n",
       "      <td>0</td>\n",
       "      <td>_Z20simpleStencil_KerneliPfS_</td>\n",
       "      <td>bY</td>\n",
       "      <td>1.0</td>\n",
       "    </tr>\n",
       "    <tr>\n",
       "      <th>...</th>\n",
       "      <td>...</td>\n",
       "      <td>...</td>\n",
       "      <td>...</td>\n",
       "      <td>...</td>\n",
       "      <td>...</td>\n",
       "      <td>...</td>\n",
       "      <td>...</td>\n",
       "    </tr>\n",
       "    <tr>\n",
       "      <th>363</th>\n",
       "      <td>my_benchmarks</td>\n",
       "      <td>5p-stencil_opt</td>\n",
       "      <td>s1</td>\n",
       "      <td>0</td>\n",
       "      <td>_Z17optStencil_KerneliPfS_</td>\n",
       "      <td>setp.gt.f32</td>\n",
       "      <td>1044484.0</td>\n",
       "    </tr>\n",
       "    <tr>\n",
       "      <th>364</th>\n",
       "      <td>my_benchmarks</td>\n",
       "      <td>5p-stencil_opt</td>\n",
       "      <td>s1</td>\n",
       "      <td>0</td>\n",
       "      <td>_Z17optStencil_KerneliPfS_</td>\n",
       "      <td>selp.f32</td>\n",
       "      <td>2088968.0</td>\n",
       "    </tr>\n",
       "    <tr>\n",
       "      <th>365</th>\n",
       "      <td>my_benchmarks</td>\n",
       "      <td>5p-stencil_opt</td>\n",
       "      <td>s1</td>\n",
       "      <td>0</td>\n",
       "      <td>_Z17optStencil_KerneliPfS_</td>\n",
       "      <td>setp.lt.f32</td>\n",
       "      <td>1044484.0</td>\n",
       "    </tr>\n",
       "    <tr>\n",
       "      <th>366</th>\n",
       "      <td>my_benchmarks</td>\n",
       "      <td>5p-stencil_opt</td>\n",
       "      <td>s1</td>\n",
       "      <td>0</td>\n",
       "      <td>_Z17optStencil_KerneliPfS_</td>\n",
       "      <td>st.global.f32</td>\n",
       "      <td>1044484.0</td>\n",
       "    </tr>\n",
       "    <tr>\n",
       "      <th>367</th>\n",
       "      <td>my_benchmarks</td>\n",
       "      <td>5p-stencil_opt</td>\n",
       "      <td>s1</td>\n",
       "      <td>0</td>\n",
       "      <td>_Z17optStencil_KerneliPfS_</td>\n",
       "      <td>ret</td>\n",
       "      <td>1152.0</td>\n",
       "    </tr>\n",
       "  </tbody>\n",
       "</table>\n",
       "<p>368 rows × 7 columns</p>\n",
       "</div>"
      ],
      "text/plain": [
       "             bench             app dataset  lseq  \\\n",
       "0    my_benchmarks      5p-stencil      s5     0   \n",
       "1    my_benchmarks      5p-stencil      s5     0   \n",
       "2    my_benchmarks      5p-stencil      s5     0   \n",
       "3    my_benchmarks      5p-stencil      s5     0   \n",
       "4    my_benchmarks      5p-stencil      s5     0   \n",
       "..             ...             ...     ...   ...   \n",
       "363  my_benchmarks  5p-stencil_opt      s1     0   \n",
       "364  my_benchmarks  5p-stencil_opt      s1     0   \n",
       "365  my_benchmarks  5p-stencil_opt      s1     0   \n",
       "366  my_benchmarks  5p-stencil_opt      s1     0   \n",
       "367  my_benchmarks  5p-stencil_opt      s1     0   \n",
       "\n",
       "                              name         metric      value  \n",
       "0    _Z20simpleStencil_KerneliPfS_             gX      163.0  \n",
       "1    _Z20simpleStencil_KerneliPfS_             gY        1.0  \n",
       "2    _Z20simpleStencil_KerneliPfS_             gZ        1.0  \n",
       "3    _Z20simpleStencil_KerneliPfS_             bX      128.0  \n",
       "4    _Z20simpleStencil_KerneliPfS_             bY        1.0  \n",
       "..                             ...            ...        ...  \n",
       "363     _Z17optStencil_KerneliPfS_    setp.gt.f32  1044484.0  \n",
       "364     _Z17optStencil_KerneliPfS_       selp.f32  2088968.0  \n",
       "365     _Z17optStencil_KerneliPfS_    setp.lt.f32  1044484.0  \n",
       "366     _Z17optStencil_KerneliPfS_  st.global.f32  1044484.0  \n",
       "367     _Z17optStencil_KerneliPfS_            ret     1152.0  \n",
       "\n",
       "[368 rows x 7 columns]"
      ]
     },
     "execution_count": 9,
     "metadata": {},
     "output_type": "execute_result"
    }
   ],
   "source": [
    "import pandas as pd\n",
    "import sqlite3\n",
    "\n",
    "with sqlite3.Connection('measurements/cuda_flux_metrics.db') as conn:\n",
    "        df_features = pd.read_sql_query(\"select * from fluxmetrics\", conn)\n",
    "        \n",
    "df_features"
   ]
  },
  {
   "cell_type": "code",
   "execution_count": 10,
   "metadata": {},
   "outputs": [
    {
     "data": {
      "text/html": [
       "<div>\n",
       "<style scoped>\n",
       "    .dataframe tbody tr th:only-of-type {\n",
       "        vertical-align: middle;\n",
       "    }\n",
       "\n",
       "    .dataframe tbody tr th {\n",
       "        vertical-align: top;\n",
       "    }\n",
       "\n",
       "    .dataframe thead th {\n",
       "        text-align: right;\n",
       "    }\n",
       "</style>\n",
       "<table border=\"1\" class=\"dataframe\">\n",
       "  <thead>\n",
       "    <tr style=\"text-align: right;\">\n",
       "      <th></th>\n",
       "      <th>bench</th>\n",
       "      <th>app</th>\n",
       "      <th>dataset</th>\n",
       "      <th>build</th>\n",
       "      <th>lseq</th>\n",
       "      <th>time</th>\n",
       "    </tr>\n",
       "  </thead>\n",
       "  <tbody>\n",
       "    <tr>\n",
       "      <th>0</th>\n",
       "      <td>my_benchmarks</td>\n",
       "      <td>5p-stencil_opt</td>\n",
       "      <td>s5</td>\n",
       "      <td>time</td>\n",
       "      <td>0</td>\n",
       "      <td>581064</td>\n",
       "    </tr>\n",
       "    <tr>\n",
       "      <th>1</th>\n",
       "      <td>my_benchmarks</td>\n",
       "      <td>5p-stencil_opt</td>\n",
       "      <td>s5</td>\n",
       "      <td>time</td>\n",
       "      <td>0</td>\n",
       "      <td>580079</td>\n",
       "    </tr>\n",
       "    <tr>\n",
       "      <th>2</th>\n",
       "      <td>my_benchmarks</td>\n",
       "      <td>5p-stencil_opt</td>\n",
       "      <td>s5</td>\n",
       "      <td>time</td>\n",
       "      <td>0</td>\n",
       "      <td>578166</td>\n",
       "    </tr>\n",
       "    <tr>\n",
       "      <th>3</th>\n",
       "      <td>my_benchmarks</td>\n",
       "      <td>5p-stencil_opt</td>\n",
       "      <td>s5</td>\n",
       "      <td>time</td>\n",
       "      <td>0</td>\n",
       "      <td>579464</td>\n",
       "    </tr>\n",
       "    <tr>\n",
       "      <th>4</th>\n",
       "      <td>my_benchmarks</td>\n",
       "      <td>5p-stencil_opt</td>\n",
       "      <td>s5</td>\n",
       "      <td>time</td>\n",
       "      <td>0</td>\n",
       "      <td>579752</td>\n",
       "    </tr>\n",
       "    <tr>\n",
       "      <th>...</th>\n",
       "      <td>...</td>\n",
       "      <td>...</td>\n",
       "      <td>...</td>\n",
       "      <td>...</td>\n",
       "      <td>...</td>\n",
       "      <td>...</td>\n",
       "    </tr>\n",
       "    <tr>\n",
       "      <th>126</th>\n",
       "      <td>my_benchmarks</td>\n",
       "      <td>kmeans</td>\n",
       "      <td>s1</td>\n",
       "      <td>time</td>\n",
       "      <td>1</td>\n",
       "      <td>40</td>\n",
       "    </tr>\n",
       "    <tr>\n",
       "      <th>127</th>\n",
       "      <td>my_benchmarks</td>\n",
       "      <td>kmeans</td>\n",
       "      <td>s1</td>\n",
       "      <td>time</td>\n",
       "      <td>2</td>\n",
       "      <td>10</td>\n",
       "    </tr>\n",
       "    <tr>\n",
       "      <th>128</th>\n",
       "      <td>my_benchmarks</td>\n",
       "      <td>kmeans</td>\n",
       "      <td>s1</td>\n",
       "      <td>time</td>\n",
       "      <td>0</td>\n",
       "      <td>22</td>\n",
       "    </tr>\n",
       "    <tr>\n",
       "      <th>129</th>\n",
       "      <td>my_benchmarks</td>\n",
       "      <td>kmeans</td>\n",
       "      <td>s1</td>\n",
       "      <td>time</td>\n",
       "      <td>1</td>\n",
       "      <td>41</td>\n",
       "    </tr>\n",
       "    <tr>\n",
       "      <th>130</th>\n",
       "      <td>my_benchmarks</td>\n",
       "      <td>kmeans</td>\n",
       "      <td>s1</td>\n",
       "      <td>time</td>\n",
       "      <td>2</td>\n",
       "      <td>10</td>\n",
       "    </tr>\n",
       "  </tbody>\n",
       "</table>\n",
       "<p>131 rows × 6 columns</p>\n",
       "</div>"
      ],
      "text/plain": [
       "             bench             app dataset build  lseq    time\n",
       "0    my_benchmarks  5p-stencil_opt      s5  time     0  581064\n",
       "1    my_benchmarks  5p-stencil_opt      s5  time     0  580079\n",
       "2    my_benchmarks  5p-stencil_opt      s5  time     0  578166\n",
       "3    my_benchmarks  5p-stencil_opt      s5  time     0  579464\n",
       "4    my_benchmarks  5p-stencil_opt      s5  time     0  579752\n",
       "..             ...             ...     ...   ...   ...     ...\n",
       "126  my_benchmarks          kmeans      s1  time     1      40\n",
       "127  my_benchmarks          kmeans      s1  time     2      10\n",
       "128  my_benchmarks          kmeans      s1  time     0      22\n",
       "129  my_benchmarks          kmeans      s1  time     1      41\n",
       "130  my_benchmarks          kmeans      s1  time     2      10\n",
       "\n",
       "[131 rows x 6 columns]"
      ]
     },
     "execution_count": 10,
     "metadata": {},
     "output_type": "execute_result"
    }
   ],
   "source": [
    "import pandas as pd\n",
    "import sqlite3\n",
    "\n",
    "with sqlite3.Connection('measurements/kernel_time_T4.db') as conn:\n",
    "            df_time = pd.read_sql_query(\"select * from kerneltime\", conn)\n",
    "        \n",
    "df_time"
   ]
  },
  {
   "cell_type": "markdown",
   "metadata": {},
   "source": [
    "# Task 2.2 - Use GPU Mangrove to make predictions\n",
    "    \n",
    "1. Execute `init_gpu_mangrove.sh` and go to the gpu mangrove folder"
   ]
  },
  {
   "cell_type": "code",
   "execution_count": 11,
   "metadata": {},
   "outputs": [
    {
     "name": "stderr",
     "output_type": "stream",
     "text": [
      "fatal: destination path 'gpu-mangrove' already exists and is not an empty directory.\n"
     ]
    }
   ],
   "source": [
    "%%bash\n",
    "./init_gpu_mangrove.sh"
   ]
  },
  {
   "cell_type": "markdown",
   "metadata": {},
   "source": [
    "2. Convert the CUDA Flux metrics:  "
   ]
  },
  {
   "cell_type": "code",
   "execution_count": 13,
   "metadata": {},
   "outputs": [
    {
     "name": "stdout",
     "output_type": "stream",
     "text": [
      "Processing Items..\n"
     ]
    },
    {
     "name": "stderr",
     "output_type": "stream",
     "text": [
      "\r",
      "  0%|          | 0/368 [00:00<?, ?it/s]\r",
      "100%|██████████| 368/368 [00:00<00:00, 805586.57it/s]\n",
      "\r",
      "  0%|          | 0/30 [00:00<?, ?it/s]\r",
      "100%|██████████| 30/30 [00:00<00:00, 849.89it/s]\n"
     ]
    }
   ],
   "source": [
    "%%bash\n",
    "cd gpu-mangrove\n",
    "source /opt/py_env/bin/activate\n",
    "rm -f my_model_features.db\n",
    "./mangrove.py convert -i ../measurements/cuda_flux_metrics.db -o my_model_features.db"
   ]
  },
  {
   "cell_type": "markdown",
   "metadata": {},
   "source": [
    "Process the features:"
   ]
  },
  {
   "cell_type": "code",
   "execution_count": 15,
   "metadata": {},
   "outputs": [
    {
     "name": "stdout",
     "output_type": "stream",
     "text": [
      "Processing DBs\n",
      "Empty DataFrame\n",
      "Columns: [bench, app, dataset, name]\n",
      "Index: []\n"
     ]
    }
   ],
   "source": [
    "%%bash\n",
    "cd gpu-mangrove\n",
    "source /opt/py_env/bin/activate\n",
    "rm -f data/my_ML_samples_T4.db\n",
    "./mangrove.py process --fdb my_model_features.db --mdb ../measurements/kernel_time_T4.db -o data/my_ML_samples_T4.db"
   ]
  },
  {
   "cell_type": "markdown",
   "metadata": {},
   "source": [
    "Make predictions using a pre-trained model"
   ]
  },
  {
   "cell_type": "code",
   "execution_count": 16,
   "metadata": {},
   "outputs": [
    {
     "name": "stdout",
     "output_type": "stream",
     "text": [
      "Index(['threads_per_CTA', 'CTAs', 'total_instructions', 'special_operations',\n",
      "       'logic_operations', 'control_operations', 'arithmetic_operations',\n",
      "       'sync_operations', 'global_memory_volume', 'param_memory_volume',\n",
      "       'shared_memory_volume', 'arithmetic_intensity'],\n",
      "      dtype='object')\n",
      "Results:\n",
      "                                                                                y_true        y_pred  pred/true\n",
      "bench         app            dataset name                                                                      \n",
      "my_benchmarks 5p-stencil     s1      _Z20simpleStencil_KerneliPfS_              5441.0   1172.548318   0.215502\n",
      "                             s5      _Z20simpleStencil_KerneliPfS_           2930504.0  53536.509107   0.018269\n",
      "              5p-stencil_opt s1      _Z17optStencil_KerneliPfS_                 1021.0    409.008239   0.400596\n",
      "                             s5      _Z17optStencil_KerneliPfS_               580893.0   5078.921169   0.008743\n",
      "              kmeans         s1      _Z19kmeans_centroid_sumPfPiS_S0_iii          40.0     30.686237   0.767156\n",
      "                                     _Z22kmeans_centroid_updatePfPiii              9.0     13.488174   1.498686\n",
      "                                     _Z25kmeans_cluster_assignmentPfPiS_iii       22.0     29.028844   1.319493\n",
      "                             s5      _Z19kmeans_centroid_sumPfPiS_S0_iii          72.0     44.622252   0.619754\n",
      "                                     _Z22kmeans_centroid_updatePfPiii             10.5     14.398180   1.371255\n",
      "                                     _Z25kmeans_cluster_assignmentPfPiS_iii       26.0     43.124357   1.658629\n"
     ]
    },
    {
     "name": "stderr",
     "output_type": "stream",
     "text": [
      "/opt/py_env/lib/python3.6/site-packages/sklearn/base.py:334: UserWarning: Trying to unpickle estimator ExtraTreeRegressor from version 0.22.1 when using version 0.23.2. This might lead to breaking code or invalid results. Use at your own risk.\n",
      "  UserWarning)\n",
      "/opt/py_env/lib/python3.6/site-packages/sklearn/base.py:334: UserWarning: Trying to unpickle estimator ExtraTreesRegressor from version 0.22.1 when using version 0.23.2. This might lead to breaking code or invalid results. Use at your own risk.\n",
      "  UserWarning)\n",
      "/opt/py_env/lib/python3.6/site-packages/sklearn/base.py:334: UserWarning: Trying to unpickle estimator FunctionTransformer from version 0.22.1 when using version 0.23.2. This might lead to breaking code or invalid results. Use at your own risk.\n",
      "  UserWarning)\n",
      "/opt/py_env/lib/python3.6/site-packages/sklearn/base.py:334: UserWarning: Trying to unpickle estimator TransformedTargetRegressor from version 0.22.1 when using version 0.23.2. This might lead to breaking code or invalid results. Use at your own risk.\n",
      "  UserWarning)\n"
     ]
    }
   ],
   "source": [
    "%%bash\n",
    "cd gpu-mangrove\n",
    "source /opt/py_env/bin/activate\n",
    "./mangrove.py predict -i data/my_ML_samples_T4.db -m data/pre_trained/time_model_T4_median_100.pkl"
   ]
  },
  {
   "cell_type": "markdown",
   "metadata": {},
   "source": [
    "# Task 2.3 - Create and Evaluate Simple ML Model\n",
    "\n",
    "1. Complete [simple_model.py](/edit/simple_model.py). Select parameters for your learning algorithm. You may use other regressors than random forest.\n",
    "    * https://scikit-learn.org/stable/modules/svm.html#regression\n",
    "    * https://scikit-learn.org/stable/modules/ensemble.html\n",
    "2. Use the any sample datebase you want for this task. The  `simple_model.py` script expects the first argument to be the database.\n",
    "```\n",
    "./simple_model.py gpu-mangrove/data/my_ML_samples_T4.db\n",
    "```\n",
    "3. Examine model parameter and test scores"
   ]
  },
  {
   "cell_type": "markdown",
   "metadata": {},
   "source": [
    "# Task 2.4 [optional] - Create ML Model using GPU Mangrove dataset\n",
    "\n",
    "Take `simple_model.py` as a template and develop a more sophisticated ML Model\n",
    "* Test different sets of hyper-parameters. Cross-validation can be helpful.  \n",
    "  https://scikit-learn.org/stable/modules/grid_search.html\n",
    "* The quality of the prediction can be measured using different error metrics. Which metrics help best to understand the quality of the predictions?"
   ]
  },
  {
   "cell_type": "code",
   "execution_count": null,
   "metadata": {},
   "outputs": [],
   "source": []
  }
 ],
 "metadata": {
  "kernelspec": {
   "display_name": "Python 3",
   "language": "python",
   "name": "python3"
  },
  "language_info": {
   "codemirror_mode": {
    "name": "ipython",
    "version": 3
   },
   "file_extension": ".py",
   "mimetype": "text/x-python",
   "name": "python",
   "nbconvert_exporter": "python",
   "pygments_lexer": "ipython3",
   "version": "3.6.8"
  }
 },
 "nbformat": 4,
 "nbformat_minor": 4
}
